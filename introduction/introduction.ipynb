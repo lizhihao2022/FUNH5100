{
 "cells": [
  {
   "cell_type": "markdown",
   "metadata": {
    "pycharm": {
     "name": "#%% md\n"
    }
   },
   "source": [
    "# Assiment 0: Build Up Your Lab\n",
    "## Goals\n",
    "Since most of the students do not have relevant background knowledge, we give the following detailed guidance to help you install the experimental environment and tools required for the course. \n",
    "\n",
    "If you encounter any difficulties, we hope you can try to solve them yourself first (check the official documents or Google/Baidu). You are also welcome to come to us in the office hour next week (next Monday is a holiday, and we will inform you later).\n",
    "\n",
    "In this course, we will use `Python` as the programming language, use scientific computing related packages like `scikit-learn` and `PyTorch` and mainly through `jupyter notebook` for tutorial. If you have your own familar tools, just use it."
   ]
  },
  {
   "cell_type": "markdown",
   "metadata": {
    "pycharm": {
     "name": "#%% md\n"
    }
   },
   "source": [
    "# Python and Jupyter Notebooks\n",
    "[Python](https://www.python.org/) can be easy to pick up whether you're a first time programmer or you're experienced with other languages. \n",
    "\n",
    "The Jupyter Notebook is the original web application for creating and sharing computational documents. It offers a simple, streamlined, document-centric experience. \n",
    "\n",
    "We recommend using the Anaconda distribution to install Python and Jupyter."
   ]
  },
  {
   "cell_type": "markdown",
   "metadata": {
    "collapsed": false,
    "pycharm": {
     "name": "#%% md\n"
    }
   },
   "source": [
    "# Jupyter Notebook\n",
    "We will use two types of cells in this course. \n",
    "\n",
    "One is `Markdown Cells` where you can use markdown formatting language. \n",
    "Markdown is a text-to-HTML conversion tool for web writers. Markdown allows you to write using an easy-to-read, easy-to-write plain text format, then convert it to structurally valid XHTML (or HTML). \n",
    "Here is [basic syntax](https://www.markdownguide.org/basic-syntax/) of markdown.\n",
    "\n",
    "The other one is `Code Cells` where you write code.\n",
    "\n",
    "1. To install, activate your environment and use conda to install: \n",
    "\n",
    "    ```\n",
    "    conda activate matinfo\n",
    "    conda install notebook\n",
    "    ```\n",
    "\n",
    "2. Change the kernel to `matinfo` that we just created, run this command:\n",
    "    ```\n",
    "    ipython kernel install --name \"matinfo\" --user\n",
    "    ```\n",
    "    if you have changed the env name, replace `matinfo` with your env name.\n",
    "\n",
    "2. Open `introduction` folder in your terminal, to find the path of the folder (**use `cd folder_path` to enter a folder**):\n",
    "    - Windows: \n",
    "        1. Open `introduction` folder and find the path at the top of the window\n",
    "        \n",
    "            <img src=\"https://github.com/lizhihao2022/FUNH5100/blob/master/introduction/img/win-path.png?raw=true\"  alt='missing' width=\"600\">\n",
    "            \n",
    "        2. In your `Ananconda Prompt`, use:\n",
    "            ```\n",
    "            cd /d folder_path\n",
    "            ```\n",
    "            Note: replace `folder_path` with your path. \n",
    "\n",
    "            <img src=\"https://github.com/lizhihao2022/FUNH5100/blob/master/introduction/img/win-cd.png?raw=true\"  alt='missing' width=\"600\">\n",
    "\n",
    "    - MacOS: Type `cd` and a `space`, then drag the folder into terminal:\n",
    "\n",
    "        <img src=\"https://github.com/lizhihao2022/FUNH5100/blob/master/introduction/img/mac-cd.png?raw=true\"  alt='missing' width=\"600\">\n",
    "\n",
    "    Then start the notebook server from the command line:\n",
    "    ```\n",
    "    jupyter notebook\n",
    "    ```\n",
    "3. You should see the `jupyter notebook` open in your browser and you're in `introduction` folder: \n",
    "\n",
    "    <img src=\"https://github.com/lizhihao2022/FUNH5100/blob/master/introduction/img/notebook-open.png?raw=true\"  alt='missing' width=\"400\">\n",
    "\n",
    "4.  Open `introduction.ipynb`:\n",
    "\n",
    "    <img src=\"https://github.com/lizhihao2022/FUNH5100/blob/master/introduction/img/notebook-intro.png?raw=true\"  alt='missing' width=\"400\">\n",
    "\n",
    "    Scroll to this part in the `jupyter notebook`, and you shall close this pdf. We will provide tutorial materials by `jupyter notebook`.\n",
    "\n",
    "5. Change the kernel\n",
    "\n",
    "Try to run this `code cell` (Remember to check if `matplotlib` is installed):\n"
   ]
  },
  {
   "cell_type": "markdown",
   "metadata": {
    "collapsed": false,
    "pycharm": {
     "name": "#%% md\n"
    }
   },
   "source": [
    "# Anaconda\n",
    "Anaconda offers the easiest way to perform Python data science and machine learning on a single machine. Anaconda conveniently installs Python, the Jupyter Notebook, and other commonly used packages for scientific computing and data science. \n",
    "1. Download from [Anaconda](https://www.anaconda.com/products/distribution) or [Tsinghua Mirrors](https://mirrors.tuna.tsinghua.edu.cn/anaconda/archive/), sort by Date and select the latest version of the platform you are using. If you want to use Anaconda in your remote server, you can see [this](https://www.lizhihao999.cn/ubuntu%E6%9C%8D%E5%8A%A1%E5%99%A8%E5%AE%89%E8%A3%85anaconda).\n",
    "\n",
    "    <img src=\"https://github.com/lizhihao2022/FUNH5100/blob/master/introduction/img/anaconda.png?raw=true\"  alt='missing' width=\"600\">\n",
    "\n",
    "2. Install the version of Anaconda which you downloaded, following the instructions on the download page.\n",
    "3. Congratulations, you have installed everything you need including Jupyter Notebook. \n",
    "\n",
    "## Basic Usage of Anaconda and conda\n",
    "We will introduce some common information about Anaconda and conda, we strongly suggest you to check the [User Guide](https://docs.anaconda.com/anaconda/#anaconda-distribution) on your own and find what you need. \n",
    "\n",
    "Conda is a powerful package manager and environment manager that you use with command line commands at the Anaconda Prompt for Windows, or in a terminal window for macOS or Linux. \n",
    "\n",
    "### 1. Starting conda\n",
    "For full use of conda, see [this](https://conda.io/projects/conda/en/latest/user-guide/getting-started.html#getting-started-with-conda).\n",
    "- Windows: From the Start menu, search for and open \"Anaconda Prompt.\"\n",
    "\n",
    "    <img src=\"https://conda.io/projects/conda/en/latest/_images/anaconda-prompt.png?raw=true\" alt=\"missing\" width=\"400\">\n",
    "\n",
    "- MacOS/Linux: Open a terminal window.\n",
    "you shall see a `(base)` prefix and type `anaconda -V` and `conda -V` to check your Anaconda version and conda version.\n",
    "\n",
    "    <img src=\"https://github.com/lizhihao2022/FUNH5100/blob/master/introduction/img/anaconda-v.png?raw=true\"  alt='missing' width=\"600\">\n",
    "\n",
    "### 2. Managing environment\n",
    "When you begin using conda, you already have a default environment named base. You don't want to put programs into your base environment, though. Please remenber to **keep different projects' environments isolated** to each other by creating separate environments. Conda allows you to create separate environments containing files, packages, and their dependencies that will not interact with other environments.\n",
    "1. Create a new environment for this course (you can choose any name of the environment) and specific the python version ($\\ge 3.9$), When conda asks if you want to proceed, type \"y\" and press Enter.\n",
    "    ```shell\n",
    "    conda create --name matinfo python=3.9\n",
    "    ```\n",
    "    No packages will be installed in this environment. \n",
    "\n",
    "2. To use, or \"activate\" the new environment, type the following:\n",
    "    ```shell\n",
    "    conda activate matinfo\n",
    "    ```\n",
    "    And you can see the prefix turned to `(matinfo)`.\n",
    "\n",
    "    <img src=\"https://github.com/lizhihao2022/FUNH5100/blob/master/introduction/img/conda-env.png?raw=true\"  alt='missing' width=\"600\">\n",
    "\n",
    "3. To see a list of all your environments, type:\n",
    "    ```shell\n",
    "    conda info --envs\n",
    "    ```\n",
    "    <img src=\"https://github.com/lizhihao2022/FUNH5100/blob/master/introduction/img/env-list.png?raw=true\"  alt='missing' width=\"600\">\n",
    "\n",
    "4. Change your current environment back to the default (base): `conda activate`\n",
    "\n",
    "5. To deactivate an environment, type: `conda deactivate`, conda will remove the path for the currently active environment from your system command.\n",
    "\n",
    "6. Yo remove an environment, run:\n",
    "    ```\n",
    "    conda env remove --name matinfo\n",
    "    ```\n",
    "    <img src=\"https://github.com/lizhihao2022/FUNH5100/blob/master/introduction/img/env-rm.png?raw=true\"  alt='missing' width=\"600\">\n",
    "\n",
    "\n",
    "### 3. Managing packages\n",
    "1. To see all your installed packages in current env, type `conda list`.\n",
    "\n",
    "    <img src=\"https://github.com/lizhihao2022/FUNH5100/blob/master/introduction/img/package-list.png?raw=true\"  alt='missing'  width=\"600\">\n",
    "\n",
    "    As you can see, there is not any packages in the `matinfo` env. \n",
    "\n",
    "2. To install a specific package like `scikit-learn` into the current environment:\n",
    "    ```\n",
    "    conda install scikit-learn\n",
    "    ```\n",
    "    conda will collect the dependent packages and install at once.\n",
    "\n",
    "    <img src=\"https://github.com/lizhihao2022/FUNH5100/blob/master/introduction/img/package-install.png?raw=true\"  alt='missing'  width=\"400\">\n",
    "\n",
    "    Use `conda list` to check:\n",
    "\n",
    "    <img src=\"https://github.com/lizhihao2022/FUNH5100/blob/master/introduction/img/sklearn-check.png?raw=true\"  alt='missing' width=\"400\">\n",
    "\n",
    "3. To remove a package such as `scikit-learn` in current environment:\n",
    "    ```\n",
    "    conda remove scikit-learn\n",
    "    ```\n",
    "\n",
    "**Now, try to install package `matplotlib` in `matinfo`.**"
   ]
  },
  {
   "cell_type": "code",
   "execution_count": 2,
   "metadata": {
    "collapsed": false,
    "pycharm": {
     "name": "#%%\n"
    }
   },
   "outputs": [
    {
     "data": {
      "image/png": "[encoded data removed]",
      "text/plain": [
       "<Figure size 640x480 with 1 Axes>"
      ]
     },
     "metadata": {},
     "output_type": "display_data"
    }
   ],
   "source": [
    "from matplotlib import pyplot as plt\n",
    "import numpy as np\n",
    "\n",
    "# Generate 100 random data points along 3 dimensions\n",
    "x, y, scale = np.random.randn(3, 100)\n",
    "fig, ax = plt.subplots()\n",
    "\n",
    "# Map each onto a scatterplot we'll create with Matplotlib\n",
    "ax.scatter(x=x, y=y, c=scale, s=np.abs(scale)*500)\n",
    "ax.set(title=\"Some random data, created with Jupyter!\")\n",
    "plt.show()"
   ]
  },
  {
   "cell_type": "markdown",
   "metadata": {
    "collapsed": false,
    "pycharm": {
     "name": "#%% md\n"
    }
   },
   "source": [
    "# Python Packeges\n",
    "\n",
    "In this course, we will manily use `scikit-learn` and `PyTorch` to implement machine learning models. \n",
    "\n",
    "## Scikit-learn\n",
    "`Scikit-learn` is an open source machine learning library that supports supervised and unsupervised learning. It also provides various tools for model fitting, data preprocessing, model selection, model evaluation, and many other utilities. We've introduced how to install it above. We'll use `scikit-learn` in the following tutorial, see [User Guide](https://scikit-learn.org/stable/user_guide.html) for full usage. \n",
    "\n",
    "Try to run this example:"
   ]
  },
  {
   "cell_type": "code",
   "execution_count": null,
   "metadata": {
    "collapsed": false,
    "pycharm": {
     "name": "#%%\n"
    }
   },
   "outputs": [],
   "source": [
    "# Code source: Jaques Grobler\n",
    "# License: BSD 3 clause\n",
    "\n",
    "import matplotlib.pyplot as plt\n",
    "import numpy as np\n",
    "from sklearn import datasets, linear_model\n",
    "from sklearn.metrics import mean_squared_error, r2_score\n",
    "\n",
    "# Load the diabetes dataset\n",
    "diabetes_X, diabetes_y = datasets.load_diabetes(return_X_y=True)\n",
    "\n",
    "# Use only one feature\n",
    "diabetes_X = diabetes_X[:, np.newaxis, 2]\n",
    "\n",
    "# Split the data into training/testing sets\n",
    "diabetes_X_train = diabetes_X[:-20]\n",
    "diabetes_X_test = diabetes_X[-20:]\n",
    "\n",
    "# Split the targets into training/testing sets\n",
    "diabetes_y_train = diabetes_y[:-20]\n",
    "diabetes_y_test = diabetes_y[-20:]\n",
    "\n",
    "# Create linear regression object\n",
    "regr = linear_model.LinearRegression()\n",
    "\n",
    "# Train the model using the training sets\n",
    "regr.fit(diabetes_X_train, diabetes_y_train)\n",
    "\n",
    "# Make predictions using the testing set\n",
    "diabetes_y_pred = regr.predict(diabetes_X_test)\n",
    "\n",
    "# The coefficients\n",
    "print(\"Coefficients: \\n\", regr.coef_)\n",
    "# The mean squared error\n",
    "print(\"Mean squared error: %.2f\" % mean_squared_error(diabetes_y_test, diabetes_y_pred))\n",
    "# The coefficient of determination: 1 is perfect prediction\n",
    "print(\"Coefficient of determination: %.2f\" % r2_score(diabetes_y_test, diabetes_y_pred))\n",
    "\n",
    "# Plot outputs\n",
    "plt.scatter(diabetes_X_test, diabetes_y_test, color=\"black\")\n",
    "plt.plot(diabetes_X_test, diabetes_y_pred, color=\"blue\", linewidth=3)\n",
    "\n",
    "plt.xticks(())\n",
    "plt.yticks(())\n",
    "\n",
    "plt.show()"
   ]
  },
  {
   "cell_type": "markdown",
   "metadata": {
    "collapsed": false,
    "pycharm": {
     "name": "#%% md\n"
    }
   },
   "source": [
    "## PyTorch\n",
    "`PyTorch` is an open source machine learning framework that accelerates the path from research prototyping to production deployment. \n",
    "\n",
    "To start locally, you can follow [doc](https://pytorch.org/get-started/locally/). \n",
    "1. Open this [site](https://pytorch.org/), choose your `OS`, `package`(conda), `Language`(Python) and `compute platform`(Default for CPU):\n",
    "\n",
    "    <img src=\"https://github.com/lizhihao2022/FUNH5100/blob/master/introduction/img/pytorch-version.png?raw=true\"  alt='missing' width=\"400\">\n",
    "\n",
    "    Then copy the follow command.\n",
    "\n",
    "2. Open your terminal (Anaconda Prompt), activate our env `matinfo`, paste the command and run it.\n",
    "\n",
    "    <img src=\"https://github.com/lizhihao2022/FUNH5100/blob/master/introduction/img/pytorch-install.png?raw=true\"  alt='missing' width=\"600\">\n",
    "\n",
    "3. After install, use `conda list` to check:\n",
    "\n",
    "    <img src=\"https://github.com/lizhihao2022/FUNH5100/blob/master/introduction/img/pytorch-check.png?raw=true\"  alt='missing' width=\"600\">\n",
    "\n",
    "Try to run:"
   ]
  },
  {
   "cell_type": "code",
   "execution_count": null,
   "metadata": {
    "collapsed": false,
    "pycharm": {
     "name": "#%%\n"
    }
   },
   "outputs": [],
   "source": [
    "import torch\n",
    "x = torch.rand(5, 3)\n",
    "print(x)"
   ]
  },
  {
   "cell_type": "markdown",
   "metadata": {
    "collapsed": false,
    "pycharm": {
     "name": "#%% md\n"
    }
   },
   "source": [
    "# IDE\n",
    "In this course, we recommend two IDEs, one is the well-known IDE made for python: `PyCharm` and the other one is a universal editor called `Visual Studio Code`. In fact, you can use both of them, and they are both really good tools.\n",
    "\n",
    "## PyCharm\n",
    "Pycharm is well designed for python, and there are two editions, one is `community` which is for free and there is another `professional` version, which has more functions but is charged. Actually, `community` edition is enough for this course and common use. However, you can use [education](https://www.jetbrains.com/edu-products/) to use `professional` for free. \n",
    "Download from [here](https://www.jetbrains.com/pycharm/), choose the version according to your platform: \n",
    "\n",
    "<img src=\"https://github.com/lizhihao2022/FUNH5100/blob/master/introduction/img/pycharm-web.png?raw=true\"  alt='missing' width=\"600\">\n",
    "\n",
    "**Note:** We only introduce basic usages, to find detailed information and usages, see [user guide](https://www.jetbrains.com/help/pycharm/quick-start-guide.html).\n",
    "\n",
    "1. To open this `introduction` as a project, first open `PyCharm` and choose `open`:\n",
    "\n",
    "    <img src=\"https://github.com/lizhihao2022/FUNH5100/blob/master/introduction/img/pycharm-open.png?raw=true\"  alt='missing' width=\"600\">\n",
    "\n",
    "2. Choose the `introduction` folder and click `open`:\n",
    "\n",
    "3. Open `hello world.py` file. Find and click `Interpreter Settings...` as shown or find it in other way:\n",
    "\n",
    "    <img src=\"https://github.com/lizhihao2022/FUNH5100/blob/master/introduction/img/pycharm-hello.png?raw=true\"  alt='missing' width=\"600\">\n",
    "\n",
    "4. Click to add a new local interpreter:\n",
    "\n",
    "    <img src=\"https://github.com/lizhihao2022/FUNH5100/blob/master/introduction/img/pycharm-env.png?raw=true\"  alt='missing' width=\"600\">\n",
    "\n",
    "5. Choose the new anaconda env `matinfo` we just created and click `OK`:\n",
    "\n",
    "    <img src=\"https://github.com/lizhihao2022/FUNH5100/blob/master/introduction/img/pycharm-conda.png?raw=true\"  alt='missing' width=\"600\">\n",
    "\n",
    "6. `Run` the `hello world.py` (there are lots of ways to run a file, try to find out):\n",
    "\n",
    "    <img src=\"https://github.com/lizhihao2022/FUNH5100/blob/master/introduction/img/pycharm-run.png?raw=true\"  alt='missing' width=\"600\">\n",
    "\n",
    "7. You shall see the result:\n",
    "\n",
    "    <img src=\"https://github.com/lizhihao2022/FUNH5100/blob/master/introduction/img/pycharm-result.png?raw=true\"  alt='missing' width=\"600\">\n",
    "\n",
    "8. You can also use `jupyter notebook` in Pycharm without open it in terminal:\n",
    "\n",
    "    <img src=\"https://github.com/lizhihao2022/FUNH5100/blob/master/introduction/img/pycharm-jupyter.png?raw=true\"  alt='missing' width=\"600\">\n"
   ]
  },
  {
   "cell_type": "markdown",
   "metadata": {
    "collapsed": false,
    "pycharm": {
     "name": "#%% md\n"
    }
   },
   "source": [
    "## Visual Studio Code\n",
    "Visual Studio Code is a lightweight but powerful source code editor. Actually, through rich extensions,you can use VScode to anything you want.\n",
    "\n",
    "Download from [here](https://code.visualstudio.com/).\n",
    "\n",
    "<img src=\"https://github.com/lizhihao2022/FUNH5100/blob/master/introduction/img/vscode.png?raw=true\"  alt='missing' width=\"600\">\n",
    "\n",
    "For this course, we recommend you to install `python`, `Jupyter` and `Jupyter Keymap` extensions. You can go through the extension market to try different extensions.\n",
    "\n",
    "<img src=\"https://github.com/lizhihao2022/FUNH5100/blob/master/introduction/img/extensions.png?raw=true\"  alt='missing' width=\"400\">\n",
    "\n",
    "**Note:** We only introduce basic usages, to find detailed information and usages, see [Docs](https://code.visualstudio.com/docs).\n",
    "\n",
    "1. To open this project, open `introduction` folder.\n",
    "\n",
    "2. Open `introduction.ipynb` file to see this jupyter notebook:\n",
    "\n",
    "    <img src=\"https://github.com/lizhihao2022/FUNH5100/blob/master/introduction/img/vscode-jupy.png?raw=true\"  alt='missing' width=\"600\">\n",
    "\n",
    "3. Try to change the kernel to our `matinfo`:\n",
    "\n",
    "    <img src=\"https://github.com/lizhihao2022/FUNH5100/blob/master/introduction/img/vscode-inter.png?raw=true\"  alt='missing' width=\"800\">\n",
    "\n",
    "4. Open `hello world.py` file and change the interpreter to `matinfo`:\n",
    "\n",
    "    <img src=\"https://github.com/lizhihao2022/FUNH5100/blob/master/introduction/img/vscode-env.png?raw=true\"  alt='missing' width=\"600\">\n",
    "\n",
    "5. Run it:\n",
    "\n",
    "    <img src=\"https://github.com/lizhihao2022/FUNH5100/blob/master/introduction/img/vscode-run.png?raw=true\"  alt='missing' width=\"600\">\n",
    "\n",
    "6. With extension `Jupyter`, you can easily use `jupyter notebook` in VSCode without open it in terminal:\n",
    "\n",
    "    <img src=\"https://github.com/lizhihao2022/FUNH5100/blob/master/introduction/img/vscode-jupyter.png?raw=true\"  alt='missing' width=\"600\">\n",
    "\n",
    "    Remember to change the kernel to `matinfo`:\n",
    "\n",
    "    <img src=\"https://github.com/lizhihao2022/FUNH5100/blob/master/introduction/img/vscode-kernel.png?raw=true\"  alt='missing' width=\"600\">\n",
    " "
   ]
  },
  {
   "cell_type": "code",
   "execution_count": null,
   "metadata": {},
   "outputs": [],
   "source": [
    "import torch\n",
    "x = torch.rand(5, 3)\n",
    "print(x)"
   ]
  },
  {
   "cell_type": "markdown",
   "metadata": {
    "collapsed": false,
    "pycharm": {
     "name": "#%% md\n"
    }
   },
   "source": [
    "# IDE\n",
    "In this course, we recommend two IDEs, one is the well-known IDE made for python: `PyCharm` and the other one is a universal editor called `Visual Studio Code`. In fact, you can use both of them, and they are both really good tools.\n",
    "\n",
    "## PyCharm\n",
    "Pycharm is well designed for python, and there are two editions, one is `community` which is for free and there is another `professional` version, which has more functions but is charged. Actually, `community` edition is enough for this course and common use. However, you can use [education](https://www.jetbrains.com/edu-products/) to use `professional` for free. \n",
    "Download from [here](https://www.jetbrains.com/pycharm/), choose the version according to your platform: \n",
    "\n",
    "<img src=\"https://github.com/lizhihao2022/FUNH5100/blob/master/introduction/img/pycharm-web.png?raw=true\"  alt='missing' width=\"600\">\n",
    "\n",
    "**Note:** We only introduce basic usages, to find detailed information and usages, see [user guide](https://www.jetbrains.com/help/pycharm/quick-start-guide.html).\n",
    "\n",
    "1. To open this `introduction` as a project, first open `PyCharm` and choose `open`:\n",
    "\n",
    "    <img src=\"https://github.com/lizhihao2022/FUNH5100/blob/master/introduction/img/pycharm-open.png?raw=true\"  alt='missing' width=\"600\">\n",
    "\n",
    "2. Choose the `introduction` folder and click `open`:\n",
    "\n",
    "3. Open `hello world.py` file. Find and click `Interpreter Settings...` as shown or find it in other way:\n",
    "\n",
    "    <img src=\"https://github.com/lizhihao2022/FUNH5100/blob/master/introduction/img/pycharm-hello.png?raw=true\"  alt='missing' width=\"600\">\n",
    "\n",
    "4. Click to add a new local interpreter:\n",
    "\n",
    "    <img src=\"https://github.com/lizhihao2022/FUNH5100/blob/master/introduction/img/pycharm-env.png?raw=true\"  alt='missing' width=\"600\">\n",
    "\n",
    "5. Choose the new anaconda env `matinfo` we just created and click `OK`:\n",
    "\n",
    "    <img src=\"https://github.com/lizhihao2022/FUNH5100/blob/master/introduction/img/pycharm-conda.png?raw=true\"  alt='missing' width=\"600\">\n",
    "\n",
    "6. `Run` the `hello world.py` (there are lots of ways to run a file, try to find out):\n",
    "\n",
    "    <img src=\"https://github.com/lizhihao2022/FUNH5100/blob/master/introduction/img/pycharm-run.png?raw=true\"  alt='missing' width=\"600\">\n",
    "\n",
    "7. You shall see the result:\n",
    "\n",
    "    <img src=\"https://github.com/lizhihao2022/FUNH5100/blob/master/introduction/img/pycharm-result.png?raw=true\"  alt='missing' width=\"600\">\n",
    "\n",
    "8. You can also use `jupyter notebook` in Pycharm without open it in terminal:\n",
    "\n",
    "    <img src=\"https://github.com/lizhihao2022/FUNH5100/blob/master/introduction/img/pycharm-jupyter.png?raw=true\"  alt='missing' width=\"600\">\n"
   ]
  },
  {
   "cell_type": "markdown",
   "metadata": {
    "collapsed": false,
    "pycharm": {
     "name": "#%% md\n"
    }
   },
   "source": [
    "## Visual Studio Code\n",
    "Visual Studio Code is a lightweight but powerful source code editor. Actually, through rich extensions,you can use VScode to anything you want.\n",
    "\n",
    "Download from [here](https://code.visualstudio.com/).\n",
    "\n",
    "<img src=\"https://github.com/lizhihao2022/FUNH5100/blob/master/introduction/img/vscode.png?raw=true\"  alt='missing' width=\"600\">\n",
    "\n",
    "For this course, we recommend you to install `python`, `Jupyter` and `Jupyter Keymap` extensions. You can go through the extension market to try different extensions.\n",
    "\n",
    "<img src=\"https://github.com/lizhihao2022/FUNH5100/blob/master/introduction/img/extensions.png?raw=true\"  alt='missing' width=\"400\">\n",
    "\n",
    "**Note:** We only introduce basic usages, to find detailed information and usages, see [Docs](https://code.visualstudio.com/docs).\n",
    "\n",
    "1. To open this project, open `introduction` folder.\n",
    "\n",
    "2. Open `introduction.ipynb` file to see this jupyter notebook:\n",
    "\n",
    "    <img src=\"https://github.com/lizhihao2022/FUNH5100/blob/master/introduction/img/vscode-jupy.png?raw=true\"  alt='missing' width=\"600\">\n",
    "\n",
    "3. Try to change the kernel to our `matinfo`:\n",
    "\n",
    "    <img src=\"https://github.com/lizhihao2022/FUNH5100/blob/master/introduction/img/vscode-inter.png?raw=true\"  alt='missing' width=\"800\">\n",
    "\n",
    "4. Open `hello world.py` file and change the interpreter to `matinfo`:\n",
    "\n",
    "    <img src=\"https://github.com/lizhihao2022/FUNH5100/blob/master/introduction/img/vscode-env.png?raw=true\"  alt='missing' width=\"600\">\n",
    "\n",
    "5. Run it:\n",
    "\n",
    "    <img src=\"https://github.com/lizhihao2022/FUNH5100/blob/master/introduction/img/vscode-run.png?raw=true\"  alt='missing' width=\"600\">\n",
    "\n",
    "6. With extension `Jupyter`, you can easily use `jupyter notebook` in VSCode without open it in terminal:\n",
    "\n",
    "    <img src=\"https://github.com/lizhihao2022/FUNH5100/blob/master/introduction/img/vscode-jupyter.png?raw=true\"  alt='missing' width=\"600\">\n",
    "\n",
    "    Remember to change the kernel to `matinfo`:\n",
    "\n",
    "    <img src=\"https://github.com/lizhihao2022/FUNH5100/blob/master/introduction/img/vscode-kernel.png?raw=true\"  alt='missing' width=\"600\">\n",
    " "
   ]
  },
  {
   "cell_type": "markdown",
   "metadata": {
    "pycharm": {
     "name": "#%% md\n"
    }
   },
   "source": [
    "# Acknowledgment\n",
    "I write this notebook mainly according to official docs."
   ]
  }
 ],
 "metadata": {
  "kernelspec": {
   "display_name": "Python 3.10.4 ('matinfo')",
   "language": "python",
   "name": "python3"
  },
  "language_info": {
   "codemirror_mode": {
    "name": "ipython",
    "version": 3
   },
   "file_extension": ".py",
   "mimetype": "text/x-python",
   "name": "python",
   "nbconvert_exporter": "python",
   "pygments_lexer": "ipython3",
   "version": "3.10.4"
  },
  "vscode": {
   "interpreter": {
    "hash": "675a0c6b16ac5427f81b92d4a2358a1217d5906921135abef6d9997aefec9a93"
   }
  }
 },
 "nbformat": 4,
 "nbformat_minor": 2
}
